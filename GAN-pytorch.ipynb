{
 "cells": [
  {
   "cell_type": "markdown",
   "metadata": {},
   "source": [
    "## Preliminary\n",
    "\n"
   ]
  },
  {
   "cell_type": "markdown",
   "metadata": {},
   "source": [
    "### imports\n",
    "\n"
   ]
  },
  {
   "cell_type": "code",
   "execution_count": 1,
   "metadata": {},
   "outputs": [
    {
     "name": "stdout",
     "output_type": "stream",
     "text": [
      "# Out[75]:"
     ]
    }
   ],
   "source": [
    "import torch\n",
    "import torch.nn as nn\n",
    "import torch.nn.functional as F\n",
    "import torch.optim as optim\n",
    "\n",
    "import torchvision\n",
    "import torchvision.transforms as transforms\n",
    "import torchvision.datasets as datasets\n",
    "\n",
    "import random\n",
    "import time\n",
    "\n",
    "import matplotlib.pyplot as plt\n",
    "\n",
    "import numpy as np"
   ]
  },
  {
   "cell_type": "markdown",
   "metadata": {},
   "source": [
    "### set seeds\n",
    "\n"
   ]
  },
  {
   "cell_type": "code",
   "execution_count": 1,
   "metadata": {},
   "outputs": [],
   "source": [
    "SEED = 1234\n",
    "\n",
    "random.seed(SEED)\n",
    "np.random.seed(SEED)\n",
    "torch.manual_seed(SEED)\n",
    "torch.cuda.manual_seed(SEED)\n",
    "torch.backends.cudnn.deterministic = True"
   ]
  },
  {
   "cell_type": "markdown",
   "metadata": {},
   "source": [
    "## Data preparation\n",
    "\n"
   ]
  },
  {
   "cell_type": "markdown",
   "metadata": {},
   "source": [
    "### transform data\n",
    "\n"
   ]
  },
  {
   "cell_type": "code",
   "execution_count": 1,
   "metadata": {},
   "outputs": [],
   "source": [
    "data_transforms = transforms.Compose([\n",
    "                           transforms.ToTensor(),\n",
    "                           transforms.Normalize(mean = [mean], \n",
    "                                                std = [std])\n",
    "                       ])"
   ]
  },
  {
   "cell_type": "markdown",
   "metadata": {},
   "source": [
    "### fetch data\n",
    "\n"
   ]
  },
  {
   "cell_type": "code",
   "execution_count": 1,
   "metadata": {},
   "outputs": [
    {
     "name": "stdout",
     "output_type": "stream",
     "text": [
      "# Out[84]:"
     ]
    }
   ],
   "source": [
    "train_data = datasets.MNIST(root = 'data', \n",
    "                            train = True, \n",
    "                            download = True,\n",
    "                            transform = data_transforms)\n",
    "\n",
    "test_data = datasets.MNIST('data', \n",
    "                           train = False, \n",
    "                           download = True, \n",
    "                           transform = data_transforms)\n",
    "\n",
    "# mean = train_data.data.float().mean() / 255\n",
    "# std = train_data.data.float().std() / 255\n",
    "# \n",
    "# print(f'Calculated mean: {mean}')\n",
    "# print(f'Calculated std: {std}')"
   ]
  },
  {
   "cell_type": "markdown",
   "metadata": {},
   "source": [
    "### explore data\n",
    "\n"
   ]
  },
  {
   "cell_type": "code",
   "execution_count": 1,
   "metadata": {},
   "outputs": [
    {
     "name": "stdout",
     "output_type": "stream",
     "text": [
      "# Out[86]:\n",
      "<matplotlib.image.AxesImage at 0x12e88e290>"
     ]
    },
    {
     "data": {
      "image/png": "[encoded data removed]",
      "text/plain": [
       "<matplotlib.figure.Figure>"
      ]
     },
     "metadata": {},
     "output_type": "display_data"
    }
   ],
   "source": [
    "_n_imgs = 25\n",
    "\n",
    "_batch = torch.zeros(n_imgs, 1, 28, 28)\n",
    "\n",
    "for i in range(n_imgs):\n",
    "    img, _ = train_data[int(random.random()*25)]\n",
    "    batch[i] = img\n",
    "        \n",
    "_grid_img = torchvision.utils.make_grid(batch, \n",
    "                                       nrow = 5,\n",
    "                                       padding = 0,\n",
    "                                       normalize = True)\n",
    "\n",
    "plt.imshow(_grid_img.permute(1, 2, 0))"
   ]
  },
  {
   "cell_type": "markdown",
   "metadata": {},
   "source": [
    "## Model definition\n",
    "\n"
   ]
  },
  {
   "cell_type": "markdown",
   "metadata": {},
   "source": [
    "### global vars\n",
    "\n"
   ]
  },
  {
   "cell_type": "code",
   "execution_count": 1,
   "metadata": {},
   "outputs": [
    {
     "name": "stdout",
     "output_type": "stream",
     "text": [
      "# Out[434]:"
     ]
    }
   ],
   "source": [
    "# train_data\n",
    "# test_data\n",
    "\n",
    "img_rows = 28\n",
    "img_cols = 28\n",
    "channels = 1\n",
    "\n",
    "# Input image dimensions\n",
    "img_shape = (img_rows, img_cols, channels)\n",
    "img_size = img_rows * img_cols * channels\n",
    "\n",
    "# Size of the noise vector, used as input to the Generator\n",
    "z_dim = 100\n",
    "\n",
    "# g: Generator\n",
    "g = Generator(z_dim)\n",
    "# d: Discriminator\n",
    "d = Discriminator(img_size)\n",
    "# gan: GAN\n",
    "gan = GAN(g, d)\n",
    "\n",
    "\n",
    "iterations = 5000\n",
    "batch_size = 128 \n",
    "sample_interval = 1\n",
    "\n",
    "real = torch.ones((batch_size, 1))\n",
    "fake = torch.zeros((batch_size, 1))\n",
    "\n",
    "gan_optimizer = optim.Adam(gan.parameters())\n",
    "d_optimizer = optim.Adam(d.parameters())"
   ]
  },
  {
   "cell_type": "markdown",
   "metadata": {},
   "source": [
    "### generator\n",
    "\n"
   ]
  },
  {
   "cell_type": "code",
   "execution_count": 1,
   "metadata": {},
   "outputs": [
    {
     "name": "stdout",
     "output_type": "stream",
     "text": [
      "# Out[103]:"
     ]
    }
   ],
   "source": [
    "class Generator(nn.Module):\n",
    "    def __init__(self, z_dim):\n",
    "        super().__init__()\n",
    "        self.input_fc = nn.Linear(z_dim, 128)\n",
    "        self.output_fc = nn.Linear(128, img_rows * img_cols * channels)\n",
    "\n",
    "    def forward(self, x):\n",
    "        assert(x.shape[1] == z_dim) \n",
    "        x = self.input_fc(x)\n",
    "        x = F.leaky_relu(x)\n",
    "        x = self.output_fc(x)\n",
    "        return x"
   ]
  },
  {
   "cell_type": "markdown",
   "metadata": {},
   "source": [
    "#### test\n",
    "\n"
   ]
  },
  {
   "cell_type": "code",
   "execution_count": 1,
   "metadata": {},
   "outputs": [
    {
     "name": "stdout",
     "output_type": "stream",
     "text": [
      "# Out[370]:\n",
      "<matplotlib.image.AxesImage at 0x12ff6a290>"
     ]
    },
    {
     "data": {
      "image/png": "[encoded data removed]",
      "text/plain": [
       "<matplotlib.figure.Figure>"
      ]
     },
     "metadata": {},
     "output_type": "display_data"
    }
   ],
   "source": [
    "g = Generator(z_dim)\n",
    "z = torch.tensor(np.random.normal(0, 1, (batch_size, z_dim))).float()\n",
    "output = g(z)\n",
    "output = output.view(-1, img_rows, img_cols).detach().numpy()\n",
    "plt.imshow(output[1])"
   ]
  },
  {
   "cell_type": "markdown",
   "metadata": {},
   "source": [
    "### discriminator\n",
    "\n"
   ]
  },
  {
   "cell_type": "code",
   "execution_count": 1,
   "metadata": {},
   "outputs": [
    {
     "name": "stdout",
     "output_type": "stream",
     "text": [
      "# Out[436]:"
     ]
    }
   ],
   "source": [
    "class Discriminator(nn.Module):\n",
    "    def __init__(self, img_size):\n",
    "        super().__init__()\n",
    "        self.input_fc = nn.Linear(img_size, 128)\n",
    "        self.output_fc = nn.Linear(128, 1)\n",
    "        for param in self.parameters():\n",
    "            param.requires_grad = True\n",
    "\n",
    "    def forward(self, x):\n",
    "        assert(x.shape[1] == img_size)\n",
    "        x = self.input_fc(x)\n",
    "        x = F.leaky_relu(x)\n",
    "        x = self.output_fc(x)\n",
    "        x = torch.sigmoid(x)\n",
    "        return x"
   ]
  },
  {
   "cell_type": "markdown",
   "metadata": {},
   "source": [
    "#### test\n",
    "\n"
   ]
  },
  {
   "cell_type": "code",
   "execution_count": 1,
   "metadata": {},
   "outputs": [
    {
     "name": "stdout",
     "output_type": "stream",
     "text": [
      "# Out[416]:\n",
      "#+BEGIN_EXAMPLE\n",
      "  tensor([[0.5140],\n",
      "  [0.4938],\n",
      "  [0.5098],\n",
      "  [0.4616],\n",
      "  [0.5237]], grad_fn=<SigmoidBackward>)\n",
      "#+END_EXAMPLE"
     ]
    }
   ],
   "source": [
    "d = Discriminator(img_size)\n",
    "z = torch.tensor(np.random.normal(0, 1, (batch_size, img_size))).float()\n",
    "d(z)"
   ]
  },
  {
   "cell_type": "markdown",
   "metadata": {},
   "source": [
    "### gan\n",
    "\n"
   ]
  },
  {
   "cell_type": "code",
   "execution_count": 1,
   "metadata": {},
   "outputs": [
    {
     "name": "stdout",
     "output_type": "stream",
     "text": [
      "# Out[437]:"
     ]
    }
   ],
   "source": [
    "class GAN(nn.Module):\n",
    "    \"\"\"GAN model\"\"\"\n",
    "    def __init__(self, generator, discriminator):\n",
    "        super().__init__()\n",
    "        self.generator = generator\n",
    "        self.discriminator = discriminator\n",
    "        for param in self.discriminator.parameters():\n",
    "            param.requires_grad = False\n",
    "\n",
    "    def forward(self, x):\n",
    "        gen_img = self.generator(x)\n",
    "        return self.discriminator(gen_img)"
   ]
  },
  {
   "cell_type": "markdown",
   "metadata": {},
   "source": [
    "#### test\n",
    "\n"
   ]
  },
  {
   "cell_type": "code",
   "execution_count": 1,
   "metadata": {},
   "outputs": [
    {
     "name": "stdout",
     "output_type": "stream",
     "text": [
      "# Out[421]:\n",
      "#+BEGIN_EXAMPLE\n",
      "  tensor([[0.5074],\n",
      "  [0.4979],\n",
      "  [0.5134],\n",
      "  [0.4946],\n",
      "  [0.4960]], grad_fn=<SigmoidBackward>)\n",
      "#+END_EXAMPLE"
     ]
    }
   ],
   "source": [
    "gan = GAN(g, d)\n",
    "z = torch.tensor(np.random.normal(0, 1, (batch_size, z_dim))).float()\n",
    "gan(z)"
   ]
  },
  {
   "cell_type": "markdown",
   "metadata": {},
   "source": [
    "## Model training\n",
    "\n"
   ]
  },
  {
   "cell_type": "markdown",
   "metadata": {},
   "source": [
    "### prepare model\n",
    "\n"
   ]
  },
  {
   "cell_type": "code",
   "execution_count": 1,
   "metadata": {},
   "outputs": [
    {
     "name": "stdout",
     "output_type": "stream",
     "text": [
      "# Out[149]:\n",
      "#+BEGIN_EXAMPLE\n",
      "  Discriminator(\n",
      "  (input_fc): Linear(in_features=784, out_features=128, bias=True)\n",
      "  (output_fc): Linear(in_features=128, out_features=1, bias=True)\n",
      "  )\n",
      "#+END_EXAMPLE"
     ]
    }
   ],
   "source": [
    "gan.train()\n",
    "d.train()"
   ]
  },
  {
   "cell_type": "markdown",
   "metadata": {},
   "source": [
    "### minibatch\n",
    "\n"
   ]
  },
  {
   "cell_type": "markdown",
   "metadata": {},
   "source": [
    "#### util function\n",
    "\n"
   ]
  },
  {
   "cell_type": "code",
   "execution_count": 1,
   "metadata": {},
   "outputs": [
    {
     "name": "stdout",
     "output_type": "stream",
     "text": [
      "# Out[281]:"
     ]
    }
   ],
   "source": [
    "def minibatches(data, batch_size):\n",
    "    idx = np.random.randint(0, len(data), batch_size)\n",
    "    output = torch.Tensor(batch_size, img_size)\n",
    "    return torch.cat([ data[idx[i]][0][0].view(img_size) for i in range(batch_size) ], 0).view(batch_size, img_size)"
   ]
  },
  {
   "cell_type": "markdown",
   "metadata": {},
   "source": [
    "#### minibatch train_data\n",
    "\n"
   ]
  },
  {
   "cell_type": "code",
   "execution_count": 1,
   "metadata": {},
   "outputs": [
    {
     "name": "stdout",
     "output_type": "stream",
     "text": [
      "# Out[286]:\n",
      "<matplotlib.image.AxesImage at 0x12f8c2a50>"
     ]
    },
    {
     "data": {
      "image/png": "[encoded data removed]",
      "text/plain": [
       "<matplotlib.figure.Figure>"
      ]
     },
     "metadata": {},
     "output_type": "display_data"
    }
   ],
   "source": [
    "img_g = minibatches(train_data, batch_size)\n",
    "# plt.imshow(img_g[0].view(28, 28))\n",
    "img_g.size()\n",
    "plt.imshow(img_g[0].view(28,28))"
   ]
  },
  {
   "cell_type": "markdown",
   "metadata": {},
   "source": [
    "### train and bp\n",
    "\n"
   ]
  },
  {
   "cell_type": "code",
   "execution_count": 1,
   "metadata": {},
   "outputs": [
    {
     "name": "stdout",
     "output_type": "stream",
     "text": [
      "# Out[423]:"
     ]
    }
   ],
   "source": [
    "def train_on_batch(model, x, yhat, optimizer):   \n",
    "    criterion = nn.BCELoss()\n",
    "    optimizer.zero_grad()\n",
    "    y = model(x).flatten()\n",
    "    yhat = yhat.flatten() #.torch.autograd.Variable(yhat.flatten().float())\n",
    "    loss = criterion(y, yhat)\n",
    "    loss.backward()\n",
    "    optimizer.step()\n",
    "    return loss"
   ]
  },
  {
   "cell_type": "markdown",
   "metadata": {},
   "source": [
    "### single round training\n",
    "\n"
   ]
  },
  {
   "cell_type": "markdown",
   "metadata": {},
   "source": [
    "#### train discriminator\n",
    "\n"
   ]
  },
  {
   "cell_type": "code",
   "execution_count": 1,
   "metadata": {},
   "outputs": [
    {
     "name": "stdout",
     "output_type": "stream",
     "text": [
      "# Out[412]:\n",
      "<matplotlib.image.AxesImage at 0x136e3cb10>"
     ]
    },
    {
     "data": {
      "image/png": "[encoded data removed]",
      "text/plain": [
       "<matplotlib.figure.Figure>"
      ]
     },
     "metadata": {},
     "output_type": "display_data"
    }
   ],
   "source": [
    "_z = torch.tensor(np.random.normal(0, 1, (batch_size, z_dim))).float()\n",
    "_gen_imgs = g(_z).view(-1, img_rows*img_cols)\n",
    "_imgs = minibatches(train_data, batch_size)\n",
    "fig = plt.figure()\n",
    "ax1 = fig.add_subplot(221)\n",
    "plt.imshow(_gen_imgs[0].view(28,28).detach().numpy())\n",
    "ax2 = fig.add_subplot(222)\n",
    "plt.imshow(_imgs[0].view(28,28))"
   ]
  },
  {
   "cell_type": "code",
   "execution_count": 1,
   "metadata": {},
   "outputs": [
    {
     "name": "stdout",
     "output_type": "stream",
     "text": [
      "# Out[413]:\n",
      "tensor(0.6702, grad_fn=<BinaryCrossEntropyBackward>)"
     ]
    }
   ],
   "source": [
    "all_imgs = torch.cat([_imgs, _gen_imgs])\n",
    "all_tags = torch.cat([real, fake])\n",
    "_d_loss = train_on_batch(d, all_imgs, all_tags, d_optimizer)\n",
    "_d_loss"
   ]
  },
  {
   "cell_type": "markdown",
   "metadata": {},
   "source": [
    "#### train generator\n",
    "\n"
   ]
  },
  {
   "cell_type": "code",
   "execution_count": 1,
   "metadata": {},
   "outputs": [
    {
     "name": "stdout",
     "output_type": "stream",
     "text": [
      "# Out[414]:\n",
      "tensor(0.6693, grad_fn=<BinaryCrossEntropyBackward>)"
     ]
    }
   ],
   "source": [
    "gan_loss = train_on_batch(gan, _z, real, gan_optimizer)\n",
    "gan_loss"
   ]
  },
  {
   "cell_type": "markdown",
   "metadata": {},
   "source": [
    "### iterative training\n",
    "\n"
   ]
  },
  {
   "cell_type": "code",
   "execution_count": 1,
   "metadata": {},
   "outputs": [
    {
     "name": "stdout",
     "output_type": "stream",
     "text": [
      "# Out[438]:\n",
      "<matplotlib.legend.Legend at 0x13b47e5d0>"
     ]
    },
    {
     "data": {
      "image/png": "[encoded data removed]",
      "text/plain": [
       "<matplotlib.figure.Figure>"
      ]
     },
     "metadata": {},
     "output_type": "display_data"
    }
   ],
   "source": [
    "d_loss = []\n",
    "gan_loss = []\n",
    "for iteration in range(iterations):\n",
    "    _z = torch.tensor(np.random.normal(0, 1, (batch_size, z_dim))).float()\n",
    "    _gen_imgs = g(_z).view(-1, img_rows*img_cols)\n",
    "    _imgs = minibatches(train_data, batch_size)\n",
    "    all_imgs = torch.cat([_imgs, _gen_imgs])\n",
    "    all_tags = torch.cat([real, fake])\n",
    "    _d_loss = train_on_batch(d, all_imgs, all_tags, d_optimizer)\n",
    "    _gan_loss = train_on_batch(gan, _z, real, gan_optimizer)\n",
    "    d_loss.append(_d_loss)\n",
    "    gan_loss.append(_gan_loss)\n",
    "plt.plot(np.arange(iteration+1), d_loss, label=\"Discriminator loss\")\n",
    "plt.plot(np.arange(iteration+1), gan_loss, label=\"Generator loss\")\n",
    "plt.title(\"Training Loss\")\n",
    "plt.xlabel(\"Iteration\")\n",
    "plt.ylabel(\"Loss\")\n",
    "plt.legend()"
   ]
  }
 ],
 "metadata": {
  "hide_input": false,
  "kernelspec": {
   "display_name": "Python 3",
   "language": "python",
   "name": "python3"
  },
  "language_info": {
   "codemirror_mode": {
    "name": "ipython",
    "version": 3
   },
   "file_extension": ".py",
   "mimetype": "text/x-python",
   "name": "python",
   "nbconvert_exporter": "python",
   "pygments_lexer": "ipython3",
   "version": "3.7.6"
  },
  "org": null,
  "varInspector": {
   "cols": {
    "lenName": 16,
    "lenType": 16,
    "lenVar": 40
   },
   "kernels_config": {
    "python": {
     "delete_cmd_postfix": "",
     "delete_cmd_prefix": "del ",
     "library": "var_list.py",
     "varRefreshCmd": "print(var_dic_list())"
    },
    "r": {
     "delete_cmd_postfix": ") ",
     "delete_cmd_prefix": "rm(",
     "library": "var_list.r",
     "varRefreshCmd": "cat(var_dic_list()) "
    }
   },
   "types_to_exclude": [
    "module",
    "function",
    "builtin_function_or_method",
    "instance",
    "_Feature"
   ],
   "window_display": false
  }
 },
 "nbformat": 4,
 "nbformat_minor": 1
}
